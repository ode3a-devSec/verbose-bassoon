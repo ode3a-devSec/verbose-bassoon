{
 "cells": [
  {
   "cell_type": "markdown",
   "id": "735963b4",
   "metadata": {},
   "source": [
    "### F-Strings"
   ]
  },
  {
   "cell_type": "code",
   "execution_count": 1,
   "id": "3ebc6f87",
   "metadata": {},
   "outputs": [],
   "source": [
    "Greetings = f\"Hello, it is a good day to be alive\""
   ]
  },
  {
   "cell_type": "code",
   "execution_count": 3,
   "id": "b591dab0",
   "metadata": {},
   "outputs": [],
   "source": [
    "fruit = \"berries\"\n",
    "cost = 1.5\n",
    "number = 3"
   ]
  },
  {
   "cell_type": "code",
   "execution_count": 4,
   "id": "c0bea150",
   "metadata": {},
   "outputs": [
    {
     "name": "stdout",
     "output_type": "stream",
     "text": [
      "the berries  costs 1.5 per piece, totals to $4.5 dollars\n"
     ]
    }
   ],
   "source": [
    "print(f\"the {fruit}  costs {cost} per piece, totals to ${cost * number} dollars\")"
   ]
  },
  {
   "cell_type": "markdown",
   "id": "cf6ae748",
   "metadata": {},
   "source": [
    "### Python Functions"
   ]
  },
  {
   "cell_type": "code",
   "execution_count": 6,
   "id": "6ffc58f0",
   "metadata": {},
   "outputs": [],
   "source": [
    "def add(a,b):\n",
    "     c = a + b\n",
    "     return c"
   ]
  },
  {
   "cell_type": "code",
   "execution_count": 8,
   "id": "c8555489",
   "metadata": {},
   "outputs": [
    {
     "data": {
      "text/plain": [
       "5"
      ]
     },
     "execution_count": 8,
     "metadata": {},
     "output_type": "execute_result"
    }
   ],
   "source": [
    "add(2,3)"
   ]
  },
  {
   "cell_type": "code",
   "execution_count": 9,
   "id": "de3c2b37",
   "metadata": {},
   "outputs": [],
   "source": [
    "def f_calc(celsius):\n",
    "    return ((9/5 * celsius) + 32)"
   ]
  },
  {
   "cell_type": "code",
   "execution_count": 10,
   "id": "69360255",
   "metadata": {},
   "outputs": [],
   "source": [
    "def f_calc(celsius: int) -> float:\n",
    "    return ((9/5 * celsius) + 32)"
   ]
  },
  {
   "cell_type": "markdown",
   "id": "ae82bb5a",
   "metadata": {},
   "source": [
    "### Advanced Funtion Arguments"
   ]
  },
  {
   "cell_type": "code",
   "execution_count": 11,
   "id": "4b7b26e0",
   "metadata": {},
   "outputs": [],
   "source": [
    "def add_args(*args):\n",
    "    total_sum = 0\n",
    "    for i in args:\n",
    "        total_sum += i\n",
    "    return total_sum"
   ]
  },
  {
   "cell_type": "code",
   "execution_count": 12,
   "id": "c25f8dab",
   "metadata": {},
   "outputs": [
    {
     "data": {
      "text/plain": [
       "25"
      ]
     },
     "execution_count": 12,
     "metadata": {},
     "output_type": "execute_result"
    }
   ],
   "source": [
    "add_args(3,4,5,6,7)"
   ]
  },
  {
   "cell_type": "code",
   "execution_count": 27,
   "id": "62216f47",
   "metadata": {},
   "outputs": [],
   "source": [
    "def add_kwargs(**kwargs):\n",
    "    total_sum = 0\n",
    "    for i in kwargs.values():\n",
    "        total_sum += i\n",
    "    return total_sum"
   ]
  },
  {
   "cell_type": "code",
   "execution_count": 28,
   "id": "5da18a7e",
   "metadata": {},
   "outputs": [],
   "source": [
    "sales = {\"sales_1\":10, \"sales_2\":20, \"sales_3\":30, \"sales_4\":40}"
   ]
  },
  {
   "cell_type": "code",
   "execution_count": 29,
   "id": "e92007ca",
   "metadata": {},
   "outputs": [
    {
     "data": {
      "text/plain": [
       "100"
      ]
     },
     "execution_count": 29,
     "metadata": {},
     "output_type": "execute_result"
    }
   ],
   "source": [
    "add_kwargs(**sales)"
   ]
  },
  {
   "cell_type": "code",
   "execution_count": 30,
   "id": "cae31fa2",
   "metadata": {},
   "outputs": [
    {
     "name": "stdout",
     "output_type": "stream",
     "text": [
      "100\n"
     ]
    }
   ],
   "source": [
    "def add_kwargs(sales_dict):\n",
    "    return sum(sales_dict.values())\n",
    "\n",
    "sales = {\"sales_1\": 10, \"sales_2\": 20, \"sales_3\": 30, \"sales_4\": 40}\n",
    "\n",
    "print(add_kwargs(sales))   # Output: 100\n"
   ]
  },
  {
   "cell_type": "code",
   "execution_count": 31,
   "id": "84cf9481",
   "metadata": {},
   "outputs": [],
   "source": [
    "def add_kwargs(sales_dict=None, **kwargs):\n",
    "    total_sum = 0\n",
    "\n",
    "    # If a dictionary is provided, add its values\n",
    "    if sales_dict:\n",
    "        total_sum += sum(sales_dict.values())\n",
    "\n",
    "    # If keyword args are provided, add their values too\n",
    "    if kwargs:\n",
    "        total_sum += sum(kwargs.values())\n",
    "\n",
    "    return total_sum\n"
   ]
  },
  {
   "cell_type": "code",
   "execution_count": 32,
   "id": "281822a2",
   "metadata": {},
   "outputs": [
    {
     "name": "stdout",
     "output_type": "stream",
     "text": [
      "100\n",
      "20\n",
      "150\n"
     ]
    }
   ],
   "source": [
    "sales = {\"sales_1\": 10, \"sales_2\": 20, \"sales_3\": 30, \"sales_4\": 40}\n",
    "\n",
    "# Passing a dictionary\n",
    "print(add_kwargs(sales))               # Output: 100\n",
    "\n",
    "# Passing keyword arguments\n",
    "print(add_kwargs(sales_1=5, sales_2=15))  # Output: 20\n",
    "\n",
    "# Mixing both\n",
    "print(add_kwargs(sales, extra_1=50))   # Output: 150\n"
   ]
  },
  {
   "cell_type": "code",
   "execution_count": 34,
   "id": "bd265242",
   "metadata": {},
   "outputs": [],
   "source": [
    "def add_kwargs(sales_dict=None, **kwargs):\n",
    "    total_sum = 0\n",
    "\n",
    "    # Handle dictionary input\n",
    "    if sales_dict and isinstance(sales_dict, dict):\n",
    "        total_sum += sum(v for v in sales_dict.values() if isinstance(v, (int, float)))\n",
    "\n",
    "    # Handle keyword args input\n",
    "    if kwargs:\n",
    "        total_sum += sum(v for v in kwargs.values() if isinstance(v, (int, float)))\n",
    "\n",
    "    return total_sum\n"
   ]
  },
  {
   "cell_type": "code",
   "execution_count": 35,
   "id": "74b6450a",
   "metadata": {},
   "outputs": [
    {
     "name": "stdout",
     "output_type": "stream",
     "text": [
      "70\n",
      "20\n",
      "100\n"
     ]
    }
   ],
   "source": [
    "sales = {\"sales_1\": 10, \"sales_2\": 20, \"sales_3\": \"oops\", \"sales_4\": 40}\n",
    "\n",
    "# Passing a dict (ignores \"oops\")\n",
    "print(add_kwargs(sales))  # Output: 70\n",
    "\n",
    "# Passing kwargs\n",
    "print(add_kwargs(a=5, b=15, c=\"bad\"))  # Output: 20\n",
    "\n",
    "# Mixing both\n",
    "print(add_kwargs(sales, bonus=30, note=\"ignore me\"))  # Output: 100\n"
   ]
  },
  {
   "cell_type": "markdown",
   "id": "de0e1703",
   "metadata": {},
   "source": [
    "### Lambda Functions"
   ]
  },
  {
   "cell_type": "code",
   "execution_count": 36,
   "id": "9655e356",
   "metadata": {},
   "outputs": [],
   "source": [
    "calc_fahrenheit = lambda celsius: 9 / 5 * celsius + 32"
   ]
  },
  {
   "cell_type": "code",
   "execution_count": 37,
   "id": "148be3ee",
   "metadata": {},
   "outputs": [
    {
     "data": {
      "text/plain": [
       "80.6"
      ]
     },
     "execution_count": 37,
     "metadata": {},
     "output_type": "execute_result"
    }
   ],
   "source": [
    "calc_fahrenheit(27)"
   ]
  },
  {
   "cell_type": "markdown",
   "id": "21926222",
   "metadata": {},
   "source": [
    "### Decorators "
   ]
  },
  {
   "cell_type": "code",
   "execution_count": 38,
   "id": "94e0d657",
   "metadata": {},
   "outputs": [],
   "source": [
    "def testdec(func):\n",
    "    def wrapper():\n",
    "        print(\"+++ Beginning of Decorator Function +++\")\n",
    "        func()\n",
    "        print(\"+++ End of Decorator Function +++\")\n",
    "    return wrapper"
   ]
  },
  {
   "cell_type": "code",
   "execution_count": 39,
   "id": "4b9cadaa",
   "metadata": {},
   "outputs": [],
   "source": [
    "@testdec\n",
    "def hello():\n",
    "    print(\"Hello!\")"
   ]
  },
  {
   "cell_type": "code",
   "execution_count": 40,
   "id": "cc16258c",
   "metadata": {},
   "outputs": [
    {
     "name": "stdout",
     "output_type": "stream",
     "text": [
      "+++ Beginning of Decorator Function +++\n",
      "Hello!\n",
      "+++ End of Decorator Function +++\n"
     ]
    }
   ],
   "source": [
    "hello()"
   ]
  },
  {
   "cell_type": "markdown",
   "id": "f0733f2f",
   "metadata": {},
   "source": [
    "### Type Hinting"
   ]
  },
  {
   "cell_type": "code",
   "execution_count": 41,
   "id": "3a0a7aa4",
   "metadata": {},
   "outputs": [],
   "source": [
    "def some_function(a: float, b: float) -> float:\n",
    "    c = a + b\n",
    "    return c"
   ]
  },
  {
   "cell_type": "code",
   "execution_count": 42,
   "id": "c3d922c9",
   "metadata": {},
   "outputs": [],
   "source": [
    "from typing import Dict"
   ]
  },
  {
   "cell_type": "code",
   "execution_count": 43,
   "id": "688514a1",
   "metadata": {},
   "outputs": [],
   "source": [
    "var: Dict[int, str] = {234: \"John Doe\"}"
   ]
  },
  {
   "cell_type": "code",
   "execution_count": 44,
   "id": "bf291f83",
   "metadata": {},
   "outputs": [],
   "source": [
    "from typing import Union"
   ]
  },
  {
   "cell_type": "code",
   "execution_count": 45,
   "id": "b7d5f9d5",
   "metadata": {},
   "outputs": [],
   "source": [
    "var: list[Union[int, float]] = [3,5,5.9, 6.2]\n"
   ]
  },
  {
   "cell_type": "code",
   "execution_count": 46,
   "id": "89cb96b1",
   "metadata": {},
   "outputs": [],
   "source": [
    "var: list[int | float] = [3,5, 5.9, 6.2]"
   ]
  },
  {
   "cell_type": "code",
   "execution_count": 48,
   "id": "d093ec2c",
   "metadata": {},
   "outputs": [],
   "source": [
    "var: list[int | str | float] = [5,6, \"foo\", \"bar\", 7.8]"
   ]
  },
  {
   "cell_type": "markdown",
   "id": "f86a0609",
   "metadata": {},
   "source": [
    "### Generators"
   ]
  },
  {
   "cell_type": "code",
   "execution_count": 49,
   "id": "20973a6c",
   "metadata": {},
   "outputs": [],
   "source": [
    "def genrator_square(n):\n",
    "    x = 0\n",
    "    while x <= n:\n",
    "        yield x*x\n",
    "        x += 1"
   ]
  },
  {
   "cell_type": "code",
   "execution_count": 50,
   "id": "6978935b",
   "metadata": {},
   "outputs": [
    {
     "name": "stdout",
     "output_type": "stream",
     "text": [
      "0\n",
      "1\n",
      "4\n",
      "9\n",
      "16\n",
      "25\n",
      "36\n",
      "49\n",
      "64\n",
      "81\n",
      "100\n"
     ]
    }
   ],
   "source": [
    "for i in genrator_square(10):\n",
    "    print(i)"
   ]
  },
  {
   "cell_type": "markdown",
   "id": "7059fcdf",
   "metadata": {},
   "source": [
    "### Enumerate"
   ]
  },
  {
   "cell_type": "code",
   "execution_count": 1,
   "id": "3bfe61db",
   "metadata": {},
   "outputs": [],
   "source": [
    "a = ['apples','oranges','melons','bananas']"
   ]
  },
  {
   "cell_type": "code",
   "execution_count": 2,
   "id": "1a5c4a8c",
   "metadata": {},
   "outputs": [
    {
     "data": {
      "text/plain": [
       "['apples', 'oranges', 'melons', 'bananas']"
      ]
     },
     "execution_count": 2,
     "metadata": {},
     "output_type": "execute_result"
    }
   ],
   "source": [
    "a"
   ]
  },
  {
   "cell_type": "code",
   "execution_count": 3,
   "id": "92ea6e43",
   "metadata": {},
   "outputs": [
    {
     "name": "stdout",
     "output_type": "stream",
     "text": [
      "(0, 'apples')\n",
      "(1, 'oranges')\n",
      "(2, 'melons')\n",
      "(3, 'bananas')\n"
     ]
    }
   ],
   "source": [
    "for i in enumerate(a):\n",
    "    print(i)"
   ]
  },
  {
   "cell_type": "code",
   "execution_count": 4,
   "id": "8403d626",
   "metadata": {},
   "outputs": [],
   "source": [
    "var: tuple[int, str] = ([1,\"apple\"],\n",
    "                        [2,\"orange\"],\n",
    "                        [3,\"melon\"],\n",
    "                        [4,\"banana\"])"
   ]
  },
  {
   "cell_type": "code",
   "execution_count": 10,
   "id": "a2ff3dc8",
   "metadata": {},
   "outputs": [
    {
     "data": {
      "text/plain": [
       "([1, 'apple'], [2, 'orange'], [3, 'melon'], [4, 'banana'])"
      ]
     },
     "execution_count": 10,
     "metadata": {},
     "output_type": "execute_result"
    }
   ],
   "source": [
    "var"
   ]
  },
  {
   "cell_type": "code",
   "execution_count": 12,
   "id": "33567a84",
   "metadata": {},
   "outputs": [
    {
     "name": "stdout",
     "output_type": "stream",
     "text": [
      "0 ---> [1, 'apple']\n",
      "1 ---> [2, 'orange']\n",
      "2 ---> [3, 'melon']\n",
      "3 ---> [4, 'banana']\n"
     ]
    }
   ],
   "source": [
    "for i, j in enumerate(var):\n",
    "    print(i,'--->', j)"
   ]
  },
  {
   "cell_type": "code",
   "execution_count": 13,
   "id": "429533a0",
   "metadata": {},
   "outputs": [],
   "source": [
    "sample_dict = {1:\"apple\", 2 : \"orange\", 3:\"melon\", 4:\"banana\"}"
   ]
  },
  {
   "cell_type": "code",
   "execution_count": 14,
   "id": "e8e423a1",
   "metadata": {},
   "outputs": [
    {
     "data": {
      "text/plain": [
       "{1: 'apple', 2: 'orange', 3: 'melon', 4: 'banana'}"
      ]
     },
     "execution_count": 14,
     "metadata": {},
     "output_type": "execute_result"
    }
   ],
   "source": [
    "sample_dict"
   ]
  },
  {
   "cell_type": "code",
   "execution_count": 15,
   "id": "284afc49",
   "metadata": {},
   "outputs": [
    {
     "name": "stdout",
     "output_type": "stream",
     "text": [
      "key is 1 and value is apple\n",
      "key is 2 and value is orange\n",
      "key is 3 and value is melon\n",
      "key is 4 and value is banana\n"
     ]
    }
   ],
   "source": [
    "for i,j in sample_dict.items():\n",
    "    print(f\"key is {i} and value is {j}\")"
   ]
  },
  {
   "cell_type": "code",
   "execution_count": 16,
   "id": "7def451c",
   "metadata": {},
   "outputs": [
    {
     "name": "stdout",
     "output_type": "stream",
     "text": [
      "0 (1, 'apple')\n",
      "1 (2, 'orange')\n",
      "2 (3, 'melon')\n",
      "3 (4, 'banana')\n"
     ]
    }
   ],
   "source": [
    "for i,j in enumerate(sample_dict.items()):\n",
    "    print(i,j)"
   ]
  },
  {
   "cell_type": "code",
   "execution_count": 17,
   "id": "12cb72fc",
   "metadata": {},
   "outputs": [],
   "source": [
    "readings_in_km = [10,12,13,9,15,21,24,27]"
   ]
  },
  {
   "cell_type": "code",
   "execution_count": 18,
   "id": "98e3494f",
   "metadata": {},
   "outputs": [],
   "source": [
    "readings_in_miles = [(i/1.6) for i in readings_in_km]"
   ]
  },
  {
   "cell_type": "code",
   "execution_count": 19,
   "id": "5bded723",
   "metadata": {},
   "outputs": [
    {
     "data": {
      "text/plain": [
       "[6.25, 7.5, 8.125, 5.625, 9.375, 13.125, 15.0, 16.875]"
      ]
     },
     "execution_count": 19,
     "metadata": {},
     "output_type": "execute_result"
    }
   ],
   "source": [
    "readings_in_miles"
   ]
  },
  {
   "cell_type": "code",
   "execution_count": 20,
   "id": "7126e467",
   "metadata": {},
   "outputs": [],
   "source": [
    "a: list[int] = [1,2,3,4,5,6,7,8,9,10]"
   ]
  },
  {
   "cell_type": "code",
   "execution_count": 21,
   "id": "edef851b",
   "metadata": {},
   "outputs": [],
   "source": [
    "b = [x**2 if x % 2 == 0 else x**3 for x in a]"
   ]
  },
  {
   "cell_type": "code",
   "execution_count": 22,
   "id": "bbab61fb",
   "metadata": {},
   "outputs": [],
   "source": [
    "a_list: list[int] = [1,2,3]\n",
    "b_list: list[int] = [3,1,3]"
   ]
  },
  {
   "cell_type": "code",
   "execution_count": 23,
   "id": "9d3d8bfc",
   "metadata": {},
   "outputs": [
    {
     "data": {
      "text/plain": [
       "[(1, 3), (1, 1), (2, 1), (3, 1), (1, 3)]"
      ]
     },
     "execution_count": 23,
     "metadata": {},
     "output_type": "execute_result"
    }
   ],
   "source": [
    "[ (x, y) for y in b_list for x in a_list if x + y <= 4 ]"
   ]
  },
  {
   "cell_type": "markdown",
   "id": "df17d5d6",
   "metadata": {},
   "source": [
    "### Random Module"
   ]
  },
  {
   "cell_type": "code",
   "execution_count": 24,
   "id": "f76e07e7",
   "metadata": {},
   "outputs": [],
   "source": [
    "import random"
   ]
  },
  {
   "cell_type": "code",
   "execution_count": 25,
   "id": "5849c94c",
   "metadata": {},
   "outputs": [
    {
     "data": {
      "text/plain": [
       "0.4212221364332557"
      ]
     },
     "execution_count": 25,
     "metadata": {},
     "output_type": "execute_result"
    }
   ],
   "source": [
    "var = random.random()\n",
    "var"
   ]
  },
  {
   "cell_type": "code",
   "execution_count": 26,
   "id": "8580448d",
   "metadata": {},
   "outputs": [
    {
     "data": {
      "text/plain": [
       "8"
      ]
     },
     "execution_count": 26,
     "metadata": {},
     "output_type": "execute_result"
    }
   ],
   "source": [
    "random.randint(1,33)"
   ]
  },
  {
   "cell_type": "code",
   "execution_count": 27,
   "id": "0725f98b",
   "metadata": {},
   "outputs": [
    {
     "data": {
      "text/plain": [
       "625944"
      ]
     },
     "execution_count": 27,
     "metadata": {},
     "output_type": "execute_result"
    }
   ],
   "source": [
    "random.getrandbits(20)"
   ]
  },
  {
   "cell_type": "code",
   "execution_count": 28,
   "id": "19cebc25",
   "metadata": {},
   "outputs": [
    {
     "data": {
      "text/plain": [
       "False"
      ]
     },
     "execution_count": 28,
     "metadata": {},
     "output_type": "execute_result"
    }
   ],
   "source": [
    "bool(random.getrandbits(1))"
   ]
  },
  {
   "cell_type": "code",
   "execution_count": 29,
   "id": "4b9fa0f1",
   "metadata": {},
   "outputs": [],
   "source": [
    "fruit = ['apple','banana','melon','orange']"
   ]
  },
  {
   "cell_type": "code",
   "execution_count": 30,
   "id": "b3ddeb47",
   "metadata": {},
   "outputs": [
    {
     "data": {
      "text/plain": [
       "'orange'"
      ]
     },
     "execution_count": 30,
     "metadata": {},
     "output_type": "execute_result"
    }
   ],
   "source": [
    "random.choice(fruit)"
   ]
  },
  {
   "cell_type": "code",
   "execution_count": 31,
   "id": "0c4e469e",
   "metadata": {},
   "outputs": [],
   "source": [
    "random.shuffle(fruit)"
   ]
  },
  {
   "cell_type": "code",
   "execution_count": 32,
   "id": "b2427bf9",
   "metadata": {},
   "outputs": [
    {
     "data": {
      "text/plain": [
       "['orange', 'melon', 'apple', 'banana']"
      ]
     },
     "execution_count": 32,
     "metadata": {},
     "output_type": "execute_result"
    }
   ],
   "source": [
    "fruit"
   ]
  },
  {
   "cell_type": "code",
   "execution_count": 33,
   "id": "5921e579",
   "metadata": {},
   "outputs": [],
   "source": [
    "alpha: list[str] = list(\"abcdefghijklmnopqrstuvwxyz\")"
   ]
  },
  {
   "cell_type": "code",
   "execution_count": 36,
   "id": "af6a6a56",
   "metadata": {},
   "outputs": [
    {
     "data": {
      "text/plain": [
       "['a',\n",
       " 'b',\n",
       " 'c',\n",
       " 'd',\n",
       " 'e',\n",
       " 'f',\n",
       " 'g',\n",
       " 'h',\n",
       " 'i',\n",
       " 'j',\n",
       " 'k',\n",
       " 'l',\n",
       " 'm',\n",
       " 'n',\n",
       " 'o',\n",
       " 'p',\n",
       " 'q',\n",
       " 'r',\n",
       " 's',\n",
       " 't',\n",
       " 'u',\n",
       " 'v',\n",
       " 'w',\n",
       " 'x',\n",
       " 'y',\n",
       " 'z']"
      ]
     },
     "execution_count": 36,
     "metadata": {},
     "output_type": "execute_result"
    }
   ],
   "source": [
    "alpha"
   ]
  },
  {
   "cell_type": "code",
   "execution_count": 37,
   "id": "3f32b67f",
   "metadata": {},
   "outputs": [
    {
     "data": {
      "text/plain": [
       "['z', 'e', 'v', 'q', 'j', 'l', 'g']"
      ]
     },
     "execution_count": 37,
     "metadata": {},
     "output_type": "execute_result"
    }
   ],
   "source": [
    "random.sample(alpha, 7)"
   ]
  },
  {
   "cell_type": "code",
   "execution_count": null,
   "id": "ac9c752e",
   "metadata": {},
   "outputs": [],
   "source": []
  }
 ],
 "metadata": {
  "kernelspec": {
   "display_name": "Python 3 (ipykernel)",
   "language": "python",
   "name": "python3"
  },
  "language_info": {
   "codemirror_mode": {
    "name": "ipython",
    "version": 3
   },
   "file_extension": ".py",
   "mimetype": "text/x-python",
   "name": "python",
   "nbconvert_exporter": "python",
   "pygments_lexer": "ipython3",
   "version": "3.11.6"
  }
 },
 "nbformat": 4,
 "nbformat_minor": 5
}
