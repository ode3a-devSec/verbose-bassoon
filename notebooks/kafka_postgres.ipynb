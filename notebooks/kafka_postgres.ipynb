{
 "cells": [
  {
   "cell_type": "code",
   "execution_count": 1,
   "id": "e7f39dbb-8a29-468c-ba07-04c3d3ac97b1",
   "metadata": {},
   "outputs": [
    {
     "name": "stdout",
     "output_type": "stream",
     "text": [
      ":: loading settings :: url = jar:file:/opt/conda/lib/python3.11/site-packages/pyspark/jars/ivy-2.5.1.jar!/org/apache/ivy/core/settings/ivysettings.xml\n"
     ]
    },
    {
     "name": "stderr",
     "output_type": "stream",
     "text": [
      "Ivy Default Cache set to: /home/jovyan/.ivy2/cache\n",
      "The jars for the packages stored in: /home/jovyan/.ivy2/jars\n",
      "org.postgresql#postgresql added as a dependency\n",
      ":: resolving dependencies :: org.apache.spark#spark-submit-parent-5091a6e2-d7cf-4b05-84f5-949f0711f2f7;1.0\n",
      "\tconfs: [default]\n",
      "\tfound org.postgresql#postgresql;42.7.8 in central\n",
      "\tfound org.checkerframework#checker-qual;3.49.5 in central\n",
      "downloading https://repo1.maven.org/maven2/org/postgresql/postgresql/42.7.8/postgresql-42.7.8.jar ...\n",
      "\t[SUCCESSFUL ] org.postgresql#postgresql;42.7.8!postgresql.jar (4295ms)\n",
      "downloading https://repo1.maven.org/maven2/org/checkerframework/checker-qual/3.49.5/checker-qual-3.49.5.jar ...\n",
      "\t[SUCCESSFUL ] org.checkerframework#checker-qual;3.49.5!checker-qual.jar (1777ms)\n",
      ":: resolution report :: resolve 4768ms :: artifacts dl 6076ms\n",
      "\t:: modules in use:\n",
      "\torg.checkerframework#checker-qual;3.49.5 from central in [default]\n",
      "\torg.postgresql#postgresql;42.7.8 from central in [default]\n",
      "\t---------------------------------------------------------------------\n",
      "\t|                  |            modules            ||   artifacts   |\n",
      "\t|       conf       | number| search|dwnlded|evicted|| number|dwnlded|\n",
      "\t---------------------------------------------------------------------\n",
      "\t|      default     |   2   |   2   |   2   |   0   ||   2   |   2   |\n",
      "\t---------------------------------------------------------------------\n",
      ":: retrieving :: org.apache.spark#spark-submit-parent-5091a6e2-d7cf-4b05-84f5-949f0711f2f7\n",
      "\tconfs: [default]\n",
      "\t2 artifacts copied, 0 already retrieved (1323kB/8ms)\n",
      "25/09/28 17:56:00 WARN NativeCodeLoader: Unable to load native-hadoop library for your platform... using builtin-java classes where applicable\n",
      "Setting default log level to \"WARN\".\n",
      "To adjust logging level use sc.setLogLevel(newLevel). For SparkR, use setLogLevel(newLevel).\n"
     ]
    },
    {
     "ename": "NameError",
     "evalue": "name 'df_stream' is not defined",
     "output_type": "error",
     "traceback": [
      "\u001b[0;31m---------------------------------------------------------------------------\u001b[0m",
      "\u001b[0;31mNameError\u001b[0m                                 Traceback (most recent call last)",
      "Cell \u001b[0;32mIn[1], line 38\u001b[0m\n\u001b[1;32m     25\u001b[0m         batch_df\u001b[38;5;241m.\u001b[39mcoalesce(\u001b[38;5;241m2\u001b[39m)\u001b[38;5;241m.\u001b[39mwrite \\\n\u001b[1;32m     26\u001b[0m             \u001b[38;5;241m.\u001b[39mmode(\u001b[38;5;124m\"\u001b[39m\u001b[38;5;124mappend\u001b[39m\u001b[38;5;124m\"\u001b[39m) \\\n\u001b[1;32m     27\u001b[0m             \u001b[38;5;241m.\u001b[39mformat(\u001b[38;5;124m\"\u001b[39m\u001b[38;5;124mjdbc\u001b[39m\u001b[38;5;124m\"\u001b[39m) \\\n\u001b[0;32m   (...)\u001b[0m\n\u001b[1;32m     34\u001b[0m             \u001b[38;5;241m.\u001b[39moption(\u001b[38;5;124m\"\u001b[39m\u001b[38;5;124misolationLevel\u001b[39m\u001b[38;5;124m\"\u001b[39m, \u001b[38;5;124m\"\u001b[39m\u001b[38;5;124mREAD_UNCOMMITTED\u001b[39m\u001b[38;5;124m\"\u001b[39m) \\\n\u001b[1;32m     35\u001b[0m             \u001b[38;5;241m.\u001b[39msave()\n\u001b[1;32m     36\u001b[0m         \u001b[38;5;28mprint\u001b[39m(\u001b[38;5;124mf\u001b[39m\u001b[38;5;124m\"\u001b[39m\u001b[38;5;124m✅ Batch \u001b[39m\u001b[38;5;132;01m{\u001b[39;00mbatch_id\u001b[38;5;132;01m}\u001b[39;00m\u001b[38;5;124m: \u001b[39m\u001b[38;5;132;01m{\u001b[39;00mbatch_df\u001b[38;5;241m.\u001b[39mcount()\u001b[38;5;132;01m}\u001b[39;00m\u001b[38;5;124m records written\u001b[39m\u001b[38;5;124m\"\u001b[39m)\n\u001b[0;32m---> 38\u001b[0m query \u001b[38;5;241m=\u001b[39m \u001b[43mdf_stream\u001b[49m\u001b[38;5;241m.\u001b[39mwriteStream \\\n\u001b[1;32m     39\u001b[0m     \u001b[38;5;241m.\u001b[39mforeachBatch(write_to_postgres_fast) \\\n\u001b[1;32m     40\u001b[0m     \u001b[38;5;241m.\u001b[39moutputMode(\u001b[38;5;124m\"\u001b[39m\u001b[38;5;124mappend\u001b[39m\u001b[38;5;124m\"\u001b[39m) \\\n\u001b[1;32m     41\u001b[0m     \u001b[38;5;241m.\u001b[39mtrigger(processingTime\u001b[38;5;241m=\u001b[39m\u001b[38;5;124m'\u001b[39m\u001b[38;5;124m60 seconds\u001b[39m\u001b[38;5;124m'\u001b[39m) \\\n\u001b[1;32m     42\u001b[0m     \u001b[38;5;241m.\u001b[39mstart()\n",
      "\u001b[0;31mNameError\u001b[0m: name 'df_stream' is not defined"
     ]
    }
   ],
   "source": [
    "from pyspark.sql import SparkSession\n",
    "import logging\n",
    "\n",
    "spark = SparkSession.builder \\\n",
    "    .appName(\"KafkaFullPipeline\") \\\n",
    "    .master(\"spark://spark-master:7077\") \\\n",
    "    .config(\"spark.jars.packages\", \"org.apache.spark:spark-sql-kafka-0-10_2.12:3.5.1,org.postgresql:postgresql:42.7.8\") \\\n",
    "    .config(\"spark.sql.streaming.checkpointLocation\", \"/tmp/checkpoint\") \\\n",
    "    .getOrCreate()\n",
    "\n",
    "df_stream = spark.readStream \\\n",
    "    .format(\"kafka\") \\\n",
    "    .option(\"kafka.bootstrap.servers\", \"kafka:9092\") \\\n",
    "    .option(\"subscribe\", \"streaming-topic\") \\\n",
    "    .option(\"startingOffsets\", \"earliest\") \\\n",
    "    .load()\n",
    "\n",
    "df_stream = df_stream.selectExpr(\n",
    "    \"CAST(key AS STRING) as message_key\", \n",
    "    \"CAST(value AS STRING) as message_value\",\n",
    "    \"timestamp\"\n",
    ")\n",
    "\n",
    "def write_batch_to_postgres(batch_df, batch_id):\n",
    "    \"\"\"Write batch to PostgreSQL with error handling\"\"\"\n",
    "    try:\n",
    "        if batch_df.count() > 0:\n",
    "            batch_df.write \\\n",
    "                .mode(\"append\") \\\n",
    "                .format(\"jdbc\") \\\n",
    "                .option(\"url\", \"jdbc:postgresql://postgres:5432/kafka_sink\") \\\n",
    "                .option(\"dbtable\", \"stream_table\") \\\n",
    "                .option(\"user\", \"postgres\") \\\n",
    "                .option(\"password\", \"postgres\") \\\n",
    "                .option(\"driver\", \"org.postgresql.Driver\") \\\n",
    "                .option(\"batchsize\", \"1000\") \\\n",
    "                .save()\n",
    "            print(f\"✅ Batch {batch_id}: {batch_df.count()} records written successfully\")\n",
    "        else:\n",
    "            print(f\"⚠️ Batch {batch_id}: No records to write\")\n",
    "    except Exception as e:\n",
    "        print(f\"❌ Error writing batch {batch_id}: {str(e)}\")\n",
    "\n",
    "query = df_stream.writeStream \\\n",
    "    .foreachBatch(write_batch_to_postgres) \\\n",
    "    .outputMode(\"append\") \\\n",
    "    .trigger(processingTime='5 seconds') \\\n",
    "    .start()\n",
    "\n",
    "query.awaitTermination()"
   ]
  },
  {
   "cell_type": "code",
   "execution_count": null,
   "id": "471fb55c-7dd4-42ef-85f4-da23160cd3bc",
   "metadata": {},
   "outputs": [],
   "source": []
  }
 ],
 "metadata": {
  "kernelspec": {
   "display_name": "Python 3 (ipykernel)",
   "language": "python",
   "name": "python3"
  },
  "language_info": {
   "codemirror_mode": {
    "name": "ipython",
    "version": 3
   },
   "file_extension": ".py",
   "mimetype": "text/x-python",
   "name": "python",
   "nbconvert_exporter": "python",
   "pygments_lexer": "ipython3",
   "version": "3.11.5"
  }
 },
 "nbformat": 4,
 "nbformat_minor": 5
}
