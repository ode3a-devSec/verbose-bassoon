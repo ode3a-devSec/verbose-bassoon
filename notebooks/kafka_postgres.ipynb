{
 "cells": [
  {
   "cell_type": "code",
   "execution_count": 1,
   "id": "e7f39dbb-8a29-468c-ba07-04c3d3ac97b1",
   "metadata": {},
   "outputs": [],
   "source": [
    "from pyspark.sql import SparkSession\n",
    "import logging\n",
    "\n",
    "spark = SparkSession.builder \\\n",
    "    .appName(\"KafkaFullPipeline\") \\\n",
    "    .master(\"spark://spark-master:7077\") \\\n",
    "    .config(\"spark.jars.packages\", \"org.apache.spark:spark-sql-kafka-0-10_2.12:3.5.1,org.postgresql:postgresql:42.7.8\") \\\n",
    "    .config(\"spark.sql.streaming.checkpointLocation\", \"/tmp/checkpoint\") \\\n",
    "    .getOrCreate()\n",
    "\n",
    "df_stream = spark.readStream \\\n",
    "    .format(\"kafka\") \\\n",
    "    .option(\"kafka.bootstrap.servers\", \"kafka:9092\") \\\n",
    "    .option(\"subscribe\", \"streaming-topic\") \\\n",
    "    .option(\"startingOffsets\", \"earliest\") \\\n",
    "    .load()\n",
    "\n",
    "df_stream = df_stream.selectExpr(\n",
    "    \"CAST(key AS STRING) as message_key\", \n",
    "    \"CAST(value AS STRING) as message_value\",\n",
    "    \"timestamp\"\n",
    ")\n",
    "\n",
    "def write_batch_to_postgres(batch_df, batch_id):\n",
    "    \"\"\"Write batch to PostgreSQL with error handling\"\"\"\n",
    "    try:\n",
    "        if batch_df.count() > 0:\n",
    "            batch_df.write \\\n",
    "                .mode(\"append\") \\\n",
    "                .format(\"jdbc\") \\\n",
    "                .option(\"url\", \"jdbc:postgresql://postgres:5432/kafka_sink\") \\\n",
    "                .option(\"dbtable\", \"stream_table\") \\\n",
    "                .option(\"user\", \"postgres\") \\\n",
    "                .option(\"password\", \"postgres\") \\\n",
    "                .option(\"driver\", \"org.postgresql.Driver\") \\\n",
    "                .option(\"batchsize\", \"1000\") \\\n",
    "                .save()\n",
    "            print(f\"✅ Batch {batch_id}: {batch_df.count()} records written successfully\")\n",
    "        else:\n",
    "            print(f\"⚠️ Batch {batch_id}: No records to write\")\n",
    "    except Exception as e:\n",
    "        print(f\"❌ Error writing batch {batch_id}: {str(e)}\")\n",
    "\n",
    "query = df_stream.writeStream \\\n",
    "    .foreachBatch(write_batch_to_postgres) \\\n",
    "    .outputMode(\"append\") \\\n",
    "    .trigger(processingTime='5 seconds') \\\n",
    "    .start()\n",
    "\n",
    "query.awaitTermination()"
   ]
  },
  {
   "cell_type": "code",
   "execution_count": null,
   "id": "f167ede2",
   "metadata": {},
   "outputs": [],
   "source": []
  }
 ],
 "metadata": {
  "kernelspec": {
   "display_name": "Python 3 (ipykernel)",
   "language": "python",
   "name": "python3"
  },
  "language_info": {
   "codemirror_mode": {
    "name": "ipython",
    "version": 3
   },
   "file_extension": ".py",
   "mimetype": "text/x-python",
   "name": "python",
   "nbconvert_exporter": "python",
   "pygments_lexer": "ipython3",
   "version": "3.11.6"
  }
 },
 "nbformat": 4,
 "nbformat_minor": 5
}
