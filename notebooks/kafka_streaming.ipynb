{
 "cells": [
  {
   "cell_type": "code",
   "execution_count": 1,
   "id": "b55837fc",
   "metadata": {},
   "outputs": [
    {
     "name": "stdout",
     "output_type": "stream",
     "text": [
      "Hello\n"
     ]
    }
   ],
   "source": [
    "print(\"Hello\")"
   ]
  },
  {
   "cell_type": "code",
   "execution_count": 2,
   "id": "6eeb3495",
   "metadata": {},
   "outputs": [],
   "source": [
    "# !ls"
   ]
  },
  {
   "cell_type": "code",
   "execution_count": 3,
   "id": "321b04fe",
   "metadata": {},
   "outputs": [],
   "source": [
    "# !pip install kafka-python\n"
   ]
  },
  {
   "cell_type": "code",
   "execution_count": 14,
   "id": "ecfa183e",
   "metadata": {},
   "outputs": [
    {
     "name": "stdout",
     "output_type": "stream",
     "text": [
      "Sent: b'Hello kafka 0'\n",
      "Sent: b'Hello kafka 1'\n",
      "Sent: b'Hello kafka 2'\n",
      "Sent: b'Hello kafka 3'\n",
      "Sent: b'Hello kafka 4'\n",
      "Sent: b'Hello kafka 5'\n",
      "Sent: b'Hello kafka 6'\n",
      "Sent: b'Hello kafka 7'\n",
      "Sent: b'Hello kafka 8'\n",
      "Sent: b'Hello kafka 9'\n"
     ]
    }
   ],
   "source": [
    "!python producer.py"
   ]
  },
  {
   "cell_type": "code",
   "execution_count": 15,
   "id": "19cf75a8-e74c-44be-9d1c-91b656025c7d",
   "metadata": {},
   "outputs": [
    {
     "name": "stderr",
     "output_type": "stream",
     "text": [
      "25/09/28 16:34:34 WARN ResolveWriteToStream: spark.sql.adaptive.enabled is not supported in streaming DataFrames/Datasets and will be disabled.\n",
      "25/09/28 16:34:34 WARN AdminClientConfig: These configurations '[key.deserializer, value.deserializer, enable.auto.commit, max.poll.records, auto.offset.reset]' were supplied but are not used yet.\n"
     ]
    },
    {
     "name": "stdout",
     "output_type": "stream",
     "text": [
      "-------------------------------------------\n",
      "Batch: 0\n",
      "-------------------------------------------\n",
      "+-----+\n",
      "|value|\n",
      "+-----+\n",
      "+-----+\n",
      "\n",
      "-------------------------------------------\n",
      "Batch: 7\n",
      "-------------------------------------------\n",
      "-------------------------------------------\n",
      "Batch: 1\n",
      "-------------------------------------------\n",
      "+-------------+\n",
      "|        value|\n",
      "+-------------+\n",
      "|Hello kafka 0|\n",
      "|Hello kafka 1|\n",
      "|Hello kafka 2|\n",
      "|Hello kafka 3|\n",
      "|Hello kafka 4|\n",
      "|Hello kafka 5|\n",
      "|Hello kafka 6|\n",
      "|Hello kafka 7|\n",
      "|Hello kafka 8|\n",
      "|Hello kafka 9|\n",
      "+-------------+\n",
      "\n",
      "+-------------+\n",
      "|        value|\n",
      "+-------------+\n",
      "|Hello kafka 0|\n",
      "|Hello kafka 1|\n",
      "|Hello kafka 2|\n",
      "|Hello kafka 3|\n",
      "|Hello kafka 4|\n",
      "|Hello kafka 5|\n",
      "|Hello kafka 6|\n",
      "|Hello kafka 7|\n",
      "|Hello kafka 8|\n",
      "|Hello kafka 9|\n",
      "+-------------+\n",
      "\n",
      "-------------------------------------------\n",
      "Batch: 2\n",
      "-------------------------------------------\n",
      "+-------------+\n",
      "|        value|\n",
      "+-------------+\n",
      "|Hello kafka 0|\n",
      "|Hello kafka 1|\n",
      "|Hello kafka 2|\n",
      "|Hello kafka 3|\n",
      "|Hello kafka 4|\n",
      "|Hello kafka 5|\n",
      "|Hello kafka 6|\n",
      "|Hello kafka 7|\n",
      "|Hello kafka 8|\n",
      "|Hello kafka 9|\n",
      "+-------------+\n",
      "\n"
     ]
    },
    {
     "data": {
      "text/plain": [
       "False"
      ]
     },
     "execution_count": 15,
     "metadata": {},
     "output_type": "execute_result"
    }
   ],
   "source": [
    "from pyspark.sql import SparkSession\n",
    "\n",
    "spark = SparkSession.builder \\\n",
    "    .appName(\"KafkaTestStreaming\") \\\n",
    "    .master(\"spark://spark-master:7077\") \\\n",
    "    .config(\"spark.jars.packages\", \"org.apache.spark:spark-sql-kafka-0-10_2.12:3.5.1\") \\\n",
    "    .config(\"spark.sql.streaming.checkpointLocation\", \"/tmp/checkpoint\") \\\n",
    "    .getOrCreate()\n",
    "\n",
    "df_stream = spark.readStream \\\n",
    "    .format(\"kafka\") \\\n",
    "    .option(\"kafka.bootstrap.servers\", \"kafka:9092\") \\\n",
    "    .option(\"subscribe\", \"test-topic\") \\\n",
    "    .option(\"startingOffsets\", \"latest\") \\\n",
    "    .load()\n",
    "\n",
    "df_stream = df_stream.selectExpr(\"CAST(value AS STRING)\")\n",
    "\n",
    "query = df_stream.writeStream \\\n",
    "    .format(\"console\") \\\n",
    "    .outputMode(\"append\") \\\n",
    "    .trigger(processingTime='10 seconds') \\\n",
    "    .start()\n",
    "\n",
    "query.awaitTermination(15)"
   ]
  },
  {
   "cell_type": "code",
   "execution_count": 16,
   "id": "61972068-2bd8-4315-b038-774f1b59eea4",
   "metadata": {},
   "outputs": [
    {
     "name": "stderr",
     "output_type": "stream",
     "text": [
      "25/09/28 16:35:01 WARN ResolveWriteToStream: spark.sql.adaptive.enabled is not supported in streaming DataFrames/Datasets and will be disabled.\n",
      "25/09/28 16:35:01 WARN AdminClientConfig: These configurations '[key.deserializer, value.deserializer, enable.auto.commit, max.poll.records, auto.offset.reset]' were supplied but are not used yet.\n"
     ]
    },
    {
     "name": "stdout",
     "output_type": "stream",
     "text": [
      "-------------------------------------------\n",
      "Batch: 0\n",
      "-------------------------------------------\n",
      "+-----+\n",
      "|value|\n",
      "+-----+\n",
      "+-----+\n",
      "\n"
     ]
    },
    {
     "data": {
      "text/plain": [
       "False"
      ]
     },
     "execution_count": 16,
     "metadata": {},
     "output_type": "execute_result"
    }
   ],
   "source": [
    "spark = SparkSession.builder \\\n",
    "    .appName(\"KafkaTestStreaming\") \\\n",
    "    .master(\"spark://spark-master:7077\") \\\n",
    "    .config(\"spark.jars\", \"/opt/spark/jars/spark-sql-kafka-0-10_2.12-3.5.1.jar,/opt/spark/jars/kafka-clients-2.8.1.jar,/opt/spark/jars/spark-token-provider-kafka-0-10_2.12-3.5.1.jar,/opt/spark/jars/commons-pool2-2.11.1.jar\") \\\n",
    "    .config(\"spark.sql.streaming.checkpointLocation\", \"/tmp/checkpoint\") \\\n",
    "    .getOrCreate()\n",
    "\n",
    "df_stream = spark.readStream \\\n",
    "    .format(\"kafka\") \\\n",
    "    .option(\"kafka.bootstrap.servers\", \"kafka:9092\") \\\n",
    "    .option(\"subscribe\", \"test-topic\") \\\n",
    "    .option(\"startingOffsets\", \"latest\") \\\n",
    "    .load()\n",
    "\n",
    "df_stream = df_stream.selectExpr(\"CAST(value AS STRING)\")\n",
    "\n",
    "query = df_stream.writeStream \\\n",
    "    .format(\"console\") \\\n",
    "    .outputMode(\"append\") \\\n",
    "    .trigger(processingTime='10 seconds') \\\n",
    "    .start()\n",
    "\n",
    "query.awaitTermination(15)  # waits up to `timeout` seconds\n"
   ]
  },
  {
   "cell_type": "code",
   "execution_count": null,
   "id": "a40ee67a-d7a2-472f-b192-59552db9a6a2",
   "metadata": {},
   "outputs": [],
   "source": [
    "! python consumer.py"
   ]
  }
 ],
 "metadata": {
  "kernelspec": {
   "display_name": "Python 3 (ipykernel)",
   "language": "python",
   "name": "python3"
  },
  "language_info": {
   "codemirror_mode": {
    "name": "ipython",
    "version": 3
   },
   "file_extension": ".py",
   "mimetype": "text/x-python",
   "name": "python",
   "nbconvert_exporter": "python",
   "pygments_lexer": "ipython3",
   "version": "3.11.5"
  }
 },
 "nbformat": 4,
 "nbformat_minor": 5
}
