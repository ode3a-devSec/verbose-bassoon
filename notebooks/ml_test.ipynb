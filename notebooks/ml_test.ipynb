{
 "cells": [
  {
   "cell_type": "code",
   "execution_count": 1,
   "id": "daa8184f-1982-4f50-a6e2-b45e68129b7c",
   "metadata": {},
   "outputs": [
    {
     "name": "stderr",
     "output_type": "stream",
     "text": [
      "2025-09-29 09:19:20.387013: I tensorflow/core/util/port.cc:153] oneDNN custom operations are on. You may see slightly different numerical results due to floating-point round-off errors from different computation orders. To turn them off, set the environment variable `TF_ENABLE_ONEDNN_OPTS=0`.\n",
      "2025-09-29 09:19:20.419845: I tensorflow/core/platform/cpu_feature_guard.cc:210] This TensorFlow binary is optimized to use available CPU instructions in performance-critical operations.\n",
      "To enable the following instructions: AVX2 AVX512F AVX512_VNNI FMA, in other operations, rebuild TensorFlow with the appropriate compiler flags.\n",
      "2025-09-29 09:19:21.719998: I tensorflow/core/util/port.cc:153] oneDNN custom operations are on. You may see slightly different numerical results due to floating-point round-off errors from different computation orders. To turn them off, set the environment variable `TF_ENABLE_ONEDNN_OPTS=0`.\n"
     ]
    },
    {
     "name": "stdout",
     "output_type": "stream",
     "text": [
      "✅ TensorFlow version: 2.20.0\n",
      "Is TensorFlow using GPU? False []\n",
      "TensorFlow matmul result:\n",
      " [[19 22]\n",
      " [43 50]]\n",
      "\n",
      "✅ PyTorch version: 2.8.0+cu128\n",
      "Is CUDA available? False\n",
      "PyTorch matmul result:\n",
      " tensor([[19., 22.],\n",
      "        [43., 50.]])\n",
      "\n",
      "✅ Scikit-learn version: 1.7.2\n",
      "Sklearn prediction for 5: 10.0\n"
     ]
    }
   ],
   "source": [
    "# test_ml_libs.py\n",
    "\n",
    "import tensorflow as tf\n",
    "import torch\n",
    "import sklearn\n",
    "import numpy as np\n",
    "\n",
    "print(\"✅ TensorFlow version:\", tf.__version__)\n",
    "print(\"Is TensorFlow using GPU?\", tf.test.is_built_with_cuda(), tf.config.list_physical_devices(\"GPU\"))\n",
    "\n",
    "# Simple TensorFlow test\n",
    "a = tf.constant([[1, 2], [3, 4]])\n",
    "b = tf.constant([[5, 6], [7, 8]])\n",
    "print(\"TensorFlow matmul result:\\n\", tf.matmul(a, b).numpy())\n",
    "\n",
    "print(\"\\n✅ PyTorch version:\", torch.__version__)\n",
    "print(\"Is CUDA available?\", torch.cuda.is_available())\n",
    "\n",
    "# Simple PyTorch test\n",
    "x = torch.tensor([[1, 2], [3, 4]], dtype=torch.float32)\n",
    "y = torch.tensor([[5, 6], [7, 8]], dtype=torch.float32)\n",
    "print(\"PyTorch matmul result:\\n\", torch.matmul(x, y))\n",
    "\n",
    "print(\"\\n✅ Scikit-learn version:\", sklearn.__version__)\n",
    "from sklearn.linear_model import LinearRegression\n",
    "\n",
    "# Simple sklearn test\n",
    "X = np.array([[1], [2], [3], [4]])\n",
    "y = np.array([2, 4, 6, 8])\n",
    "model = LinearRegression().fit(X, y)\n",
    "print(\"Sklearn prediction for 5:\", model.predict([[5]])[0])\n"
   ]
  },
  {
   "cell_type": "code",
   "execution_count": null,
   "id": "69236235-5985-47bf-ae54-d62d0f9d3ca9",
   "metadata": {},
   "outputs": [],
   "source": []
  }
 ],
 "metadata": {
  "kernelspec": {
   "display_name": "Python 3 (ipykernel)",
   "language": "python",
   "name": "python3"
  },
  "language_info": {
   "codemirror_mode": {
    "name": "ipython",
    "version": 3
   },
   "file_extension": ".py",
   "mimetype": "text/x-python",
   "name": "python",
   "nbconvert_exporter": "python",
   "pygments_lexer": "ipython3",
   "version": "3.11.6"
  }
 },
 "nbformat": 4,
 "nbformat_minor": 5
}
